{
 "cells": [
  {
   "cell_type": "markdown",
   "metadata": {},
   "source": [
    "# Performance Comparison Notebook\n",
    "\n",
    "This notebook compares the performance of different control methods for quadcopter control.\n",
    "\n",
    "## Setup\n",
    "\n",
    "First, let's import the necessary libraries:"
   ]
  },
  {
   "cell_type": "code",
   "execution_count": null,
   "metadata": {},
   "outputs": [],
   "source": [
    "import numpy as np\n",
    "import matplotlib.pyplot as plt\n",
    "from quadcopter.dynamics import QuadState, Params\n",
    "from quadcopter.simulation import simulate\n",
    "from quadcopter.controllers import PIDController, PositionController, LQRController\n",
    "from quadcopter.plotting import plot_3d_trajectory_comparison, plot_trajectory\n",
    "from quadcopter.utils import create_pid_position_controller, create_lqr_controller\n",
    "\n",
    "print(\"Libraries imported successfully\")"
   ]
  },
  {
   "cell_type": "markdown",
   "metadata": {},
   "source": [
    "## Define Test Scenario\n",
    "\n",
    "Let's define a common test scenario for all controllers:"
   ]
  },
  {
   "cell_type": "code",
   "execution_count": null,
   "metadata": {},
   "outputs": [],
   "source": [
    "# Test parameters\n",
    "duration = 10.0\n",
    "dt = 0.02\n",
    "target_position = np.array([2.0, 1.0, 3.0])\n",
    "\n",
    "# Initial state\n",
    "initial_state = QuadState(\n",
    "    pos=np.array([0.0, 0.0, 0.0]),\n",
    "    vel=np.array([0.0, 0.0, 0.0]),\n",
    "    quat=np.array([1.0, 0.0, 0.0, 0.0]),\n",
    "    ang_vel=np.array([0.0, 0.0, 0.0])\n",
    ")\n",
    "\n",
    "print(f\"Test scenario: Move from [0,0,0] to {target_position} in {duration} seconds\")"
   ]
  },
  {
   "cell_type": "markdown",
   "metadata": {},
   "source": [
    "## Controller 1: PID Control (Aggressive)\n",
    "\n",
    "Let's implement an aggressive PID controller:"
   ]
  },
  {
   "cell_type": "code",
   "execution_count": null,
   "metadata": {},
   "outputs": [],
   "source": [
    "# Aggressive PID controller\n",
    "pid_controller_1 = create_pid_position_controller(\n",
    "    target_pos=target_position,\n",
    "    kp=(4.0, 4.0, 6.0),\n",
    "    ki=(0.2, 0.2, 0.3),\n",
    "    kd=(1.0, 1.0, 2.0)\n",
    ")\n",
    "\n",
    "# Run simulation\n",
    "t1, states1, controls1 = simulate(\n",
    "    duration=duration,\n",
    "    dt=dt,\n",
    "    controller=pid_controller_1,\n",
    "    initial_state=initial_state,\n",
    "    method=\"rk4\"\n",
    ")\n",
    "\n",
    "print(f\"PID Controller 1 completed with {len(t1)} data points\")\n",
    "print(f\"Final position: [{states1[-1, 0]:.3f}, {states1[-1, 1]:.3f}, {states1[-1, 2]:.3f}]\")"
   ]
  },
  {
   "cell_type": "markdown",
   "metadata": {},
   "source": [
    "## Controller 2: PID Control (Conservative)\n",
    "\n",
    "Let's implement a conservative PID controller:"
   ]
  },
  {
   "cell_type": "code",
   "execution_count": null,
   "metadata": {},
   "outputs": [],
   "source": [
    "# Conservative PID controller\n",
    "pid_controller_2 = create_pid_position_controller(\n",
    "    target_pos=target_position,\n",
    "    kp=(1.0, 1.0, 2.0),\n",
    "    ki=(0.05, 0.05, 0.1),\n",
    "    kd=(0.2, 0.2, 0.5)\n",
    ")\n",
    "\n",
    "# Run simulation\n",
    "t2, states2, controls2 = simulate(\n",
    "    duration=duration,\n",
    "    dt=dt,\n",
    "    controller=pid_controller_2,\n",
    "    initial_state=initial_state,\n",
    "    method=\"rk4\"\n",
    ")\n",
    "\n",
    "print(f\"PID Controller 2 completed with {len(t2)} data points\")\n",
    "print(f\"Final position: [{states2[-1, 0]:.3f}, {states2[-1, 1]:.3f}, {states2[-1, 2]:.3f}]\")"
   ]
  },
  {
   "cell_type": "markdown",
   "metadata": {},
   "source": [
    "## Controller 3: LQR Control\n",
    "\n",
    "Let's implement an LQR controller:"
   ]
  },
  {
   "cell_type": "code",
   "execution_count": null,
   "metadata": {},
   "outputs": [],
   "source": [
    "# LQR controller\n",
    "lqr_controller = create_lqr_controller()\n",
    "\n",
    "# Run simulation\n",
    "t3, states3, controls3 = simulate(\n",
    "    duration=duration,\n",
    "    dt=dt,\n",
    "    controller=lqr_controller,\n",
    "    initial_state=initial_state,\n",
    "    method=\"rk4\"\n",
    ")\n",
    "\n",
    "print(f\"LQR Controller completed with {len(t3)} data points\")\n",
    "print(f\"Final position: [{states3[-1, 0]:.3f}, {states3[-1, 1]:.3f}, {states3[-1, 2]:.3f}]\")"
   ]
  },
  {
   "cell_type": "markdown",
   "metadata": {},
   "source": [
    "## Controller 4: Hover Control (Baseline)\n",
    "\n",
    "Let's implement a simple hover controller as baseline:"
   ]
  },
  {
   "cell_type": "code",
   "execution_count": null,
   "metadata": {},
   "outputs": [],
   "source": [
    "from quadcopter.utils import create_hover_controller\n",
    "\n",
    "# Hover controller\n",
    "hover_controller = create_hover_controller()\n",
    "\n",
    "# Run simulation\n",
    "t4, states4, controls4 = simulate(\n",
    "    duration=duration,\n",
    "    dt=dt,\n",
    "    controller=hover_controller,\n",
    "    initial_state=initial_state,\n",
    "    method=\"rk4\"\n",
    ")\n",
    "\n",
    "print(f\"Hover Controller completed with {len(t4)} data points\")\n",
    "print(f\"Final position: [{states4[-1, 0]:.3f}, {states4[-1, 1]:.3f}, {states4[-1, 2]:.3f}]\")"
   ]
  },
  {
   "cell_type": "markdown",
   "metadata": {},
   "source": [
    "## Trajectory Comparison\n",
    "\n",
    "Let's compare the trajectories of all controllers:"
   ]
  },
  {
   "cell_type": "code",
   "execution_count": null,
   "metadata": {},
   "outputs": [],
   "source": [
    "# Compare trajectories\n",
    "trajectories = [\n",
    "    (states1, \"Aggressive PID\"),\n",
    "    (states2, \"Conservative PID\"),\n",
    "    (states3, \"LQR\"),\n",
    "    (states4, \"Hover (Baseline)\")\n",
    "]\n",
    "\n",
    "plot_3d_trajectory_comparison(trajectories)"
   ]
  },
  {
   "cell_type": "markdown",
   "metadata": {},
   "source": [
    "## Performance Metrics Calculation\n",
    "\n",
    "Let's calculate performance metrics for each controller:"
   ]
  },
  {
   "cell_type": "code",
   "execution_count": null,
   "metadata": {},
   "outputs": [],
   "source": [
    "def calculate_performance_metrics(t, states, target_pos):\n",
    "    \"\"\"Calculate performance metrics for a trajectory.\"\"\"\n",
    "    positions = states[:, 0:3]\n",
    "    \n",
    "    # Position error\n",
    "    position_errors = positions - target_pos\n",
    "    position_error_norms = np.linalg.norm(position_errors, axis=1)\n",
    "    \n",
    "    # Metrics\n",
    "    final_error = np.linalg.norm(positions[-1] - target_pos)\n",
    "    rmse = np.sqrt(np.mean(position_error_norms**2))\n",
    "    mean_abs_error = np.mean(position_error_norms)\n",
    "    max_error = np.max(position_error_norms)\n",
    "    \n",
    "    # Convergence time (time to reach 5% of final error)\n",
    "    convergence_threshold = final_error * 1.05  # 5% tolerance\n",
    "    converged_indices = np.where(position_error_norms <= convergence_threshold)[0]\n",
    "    if len(converged_indices) > 0:\n",
    "        convergence_time = t[converged_indices[0]]\n",
    "    else:\n",
    "        convergence_time = t[-1]\n",
    "    \n",
    "    return {\n",
    "        'final_error': final_error,\n",
    "        'rmse': rmse,\n",
    "        'mean_abs_error': mean_abs_error,\n",
    "        'max_error': max_error,\n",
    "        'convergence_time': convergence_time\n",
    "    }\n",
    "\n",
    "# Calculate metrics for each controller\n",
    "metrics1 = calculate_performance_metrics(t1, states1, target_position)\n",
    "metrics2 = calculate_performance_metrics(t2, states2, target_position)\n",
    "metrics3 = calculate_performance_metrics(t3, states3, target_position)\n",
    "metrics4 = calculate_performance_metrics(t4, states4, target_position)\n",
    "\n",
    "print(\"Performance Metrics:\")\n",
    "print(\"=\"*50)\n",
    "print(f\"{'Controller':<20} {'Final Error':<12} {'RMSE':<10} {'MAE':<10} {'Max Error':<12} {'Conv. Time':<12}\")\n",
    "print(\"-\"*50)\n",
    "print(f\"{'Aggressive PID':<20} {metrics1['final_error']:<12.4f} {metrics1['rmse']:<10.4f} {metrics1['mean_abs_error']:<10.4f} {metrics1['max_error']:<12.4f} {metrics1['convergence_time']:<12.2f}\")\n",
    "print(f\"{'Conservative PID':<20} {metrics2['final_error']:<12.4f} {metrics2['rmse']:<10.4f} {metrics2['mean_abs_error']:<10.4f} {metrics2['max_error']:<12.4f} {metrics2['convergence_time']:<12.2f}\")\n",
    "print(f\"{'LQR':<20} {metrics3['final_error']:<12.4f} {metrics3['rmse']:<10.4f} {metrics3['mean_abs_error']:<10.4f} {metrics3['max_error']:<12.4f} {metrics3['convergence_time']:<12.2f}\")\n",
    "print(f\"{'Hover (Baseline)':<20} {metrics4['final_error']:<12.4f} {metrics4['rmse']:<10.4f} {metrics4['mean_abs_error']:<10.4f} {metrics4['max_error']:<12.4f} {metrics4['convergence_time']:<12.2f}\")"
   ]
  },
  {
   "cell_type": "markdown",
   "metadata": {},
   "source": [
    "## Control Effort Analysis\n",
    "\n",
    "Let's analyze the control effort for each controller:"
   ]
  },
  {
   "cell_type": "code",
   "execution_count": null,
   "metadata": {},
   "outputs": [],
   "source": [
    "# Calculate control effort metrics\n",
    "def calculate_control_effort(controls):\n",
    "    \"\"\"Calculate control effort metrics.\"\"\"\n",
    "    # Total control effort (sum of squares)\n",
    "    total_effort = np.sum(controls**2)\n",
    "    \n",
    "    # Mean control effort\n",
    "    mean_effort = np.mean(controls**2)\n",
    "    \n",
    "    # Max control effort\n",
    "    max_effort = np.max(controls)\n",
    "    \n",
    "    return {\n",
    "        'total': total_effort,\n",
    "        'mean': mean_effort,\n",
    "        'max': max_effort\n",
    "    }\n",
    "\n",
    "# Calculate control effort for each controller\n",
    "effort1 = calculate_control_effort(controls1)\n",
    "effort2 = calculate_control_effort(controls2)\n",
    "effort3 = calculate_control_effort(controls3)\n",
    "effort4 = calculate_control_effort(controls4)\n",
    "\n",
    "print(\"\\nControl Effort Metrics:\")\n",
    "print(\"=\"*50)\n",
    "print(f\"{'Controller':<20} {'Total Effort':<15} {'Mean Effort':<15} {'Max Effort':<12}\")\n",
    "print(\"-\"*50)\n",
    "print(f\"{'Aggressive PID':<20} {effort1['total']:<15.2f} {effort1['mean']:<15.2f} {effort1['max']:<12.2f}\")\n",
    "print(f\"{'Conservative PID':<20} {effort2['total']:<15.2f} {effort2['mean']:<15.2f} {effort2['max']:<12.2f}\")\n",
    "print(f\"{'LQR':<20} {effort3['total']:<15.2f} {effort3['mean']:<15.2f} {effort3['max']:<12.2f}\")\n",
    "print(f\"{'Hover (Baseline)':<20} {effort4['total']:<15.2f} {effort4['mean']:<15.2f} {effort4['max']:<12.2f}\")"
   ]
  },
  {
   "cell_type": "markdown",
   "metadata": {},
   "source": [
    "## Detailed Trajectory Plots\n",
    "\n",
    "Let's create detailed plots for each controller:"
   ]
  },
  {
   "cell_type": "code",
   "execution_count": null,
   "metadata": {},
   "outputs": [],
   "source": [
    "# Plot trajectories for each controller\n",
    "controllers = [\n",
    "    (t1, states1, controls1, \"Aggressive PID\"),\n",
    "    (t2, states2, controls2, \"Conservative PID\"),\n",
    "    (t3, states3, controls3, \"LQR\"),\n",
    "    (t4, states4, controls4, \"Hover (Baseline)\")\n",
    "]\n",
    "\n",
    "fig, axes = plt.subplots(2, 2, figsize=(15, 12))\n",
    "fig.suptitle('Position vs Time for Different Controllers', fontsize=16)\n",
    "\n",
    "for i, (t, states, controls, name) in enumerate(controllers):\n",
    "    row = i // 2\n",
    "    col = i % 2\n",
    "    \n",
    "    ax = axes[row, col]\n",
    "    positions = states[:, 0:3]\n",
    "    \n",
    "    ax.plot(t, positions[:, 0], label='X')\n",
    "    ax.plot(t, positions[:, 1], label='Y')\n",
    "    ax.plot(t, positions[:, 2], label='Z')\n",
    "    \n",
    "    # Add target position lines\n",
    "    ax.axhline(y=target_position[0], color='r', linestyle='--', alpha=0.7, label='X target')\n",
    "    ax.axhline(y=target_position[1], color='g', linestyle='--', alpha=0.7, label='Y target')\n",
    "    ax.axhline(y=target_position[2], color='b', linestyle='--', alpha=0.7, label='Z target')\n",
    "    \n",
    "    ax.set_title(name)\n",
    "    ax.set_xlabel('Time [s]')\n",
    "    ax.set_ylabel('Position [m]')\n",
    "    ax.legend()\n",
    "    ax.grid(True, alpha=0.3)\n",
    "\n",
    "plt.tight_layout()\n",
    "plt.show()"
   ]
  },
  {
   "cell_type": "markdown",
   "metadata": {},
   "source": [
    "## Error Convergence Analysis\n",
    "\n",
    "Let's analyze how quickly each controller converges to the target:"
   ]
  },
  {
   "cell_type": "code",
   "execution_count": null,
   "metadata": {},
   "outputs": [],
   "source": [
    "# Plot error convergence\n",
    "plt.figure(figsize=(12, 8))\n",
    "\n",
    "controllers_data = [\n",
    "    (t1, states1, \"Aggressive PID\"),\n",
    "    (t2, states2, \"Conservative PID\"),\n",
    "    (t3, states3, \"LQR\"),\n",
    "    (t4, states4, \"Hover (Baseline)\")\n",
    "]\n",
    "\n",
    "for t, states, name in controllers_data:\n",
    "    positions = states[:, 0:3]\n",
    "    errors = np.linalg.norm(positions - target_position, axis=1)\n",
    "    plt.plot(t, errors, label=name, linewidth=2)\n",
    "\n",
    "plt.xlabel('Time [s]')\n",
    "plt.ylabel('Position Error [m]')\n",
    "plt.title('Position Error Convergence')\n",
    "plt.legend()\n",
    "plt.grid(True, alpha=0.3)\n",
    "plt.yscale('log')  # Log scale to better see convergence\n",
    "plt.show()"
   ]
  },
  {
   "cell_type": "markdown",
   "metadata": {},
   "source": [
    "## Summary\n",
    "\n",
    "This notebook demonstrated:\n",
    "1. How to implement different control methods (PID, LQR, Hover)\n",
    "2. How to run comparative simulations\n",
    "3. How to visualize trajectory comparisons\n",
    "4. How to calculate performance metrics\n",
    "5. How to analyze control effort\n",
    "6. How to evaluate convergence characteristics\n",
    "\n",
    "Key findings:\n",
    "- Aggressive PID controllers typically converge faster but may have higher overshoot\n",
    "- Conservative PID controllers are more stable but slower to converge\n",
    "- LQR controllers provide optimal control but require accurate system models\n",
    "- Hover controllers serve as a baseline for comparison\n",
    "\n",
    "This type of comparison is useful for:\n",
    "- Selecting the best controller for a specific application\n",
    "- Tuning controller parameters\n",
    "- Academic research comparing control methods\n",
    "- Benchmarking new control algorithms"
   ]
  }
 ],
 "metadata": {
  "kernelspec": {
   "display_name": "Python 3",
   "language": "python",
   "name": "python3"
  },
  "language_info": {
   "codemirror_mode": {
    "name": "ipython",
    "version": 3
   },
   "file_extension": ".py",
   "mimetype": "text/x-python",
   "name": "python",
   "nbconvert_exporter": "python",
   "pygments_lexer": "ipython3",
   "version": "3.8.5"
  }
 },
 "nbformat": 4,
 "nbformat_minor": 4
}