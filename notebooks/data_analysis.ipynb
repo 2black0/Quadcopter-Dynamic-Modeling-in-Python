{
 "cells": [
  {
   "cell_type": "markdown",
   "metadata": {},
   "source": [
    "# Data Analysis Notebook\n",
    "\n",
    "This notebook demonstrates how to analyze quadcopter simulation data and logs.\n",
    "\n",
    "## Setup\n",
    "\n",
    "First, let's import the necessary libraries:"
   ]
  },
  {
   "cell_type": "code",
   "execution_count": null,
   "metadata": {},
   "outputs": [],
   "source": [
    "import numpy as np\n",
    "import matplotlib.pyplot as plt\n",
    "import pandas as pd\n",
    "import json\n",
    "from pathlib import Path\n",
    "\n",
    "from quadcopter.dynamics import QuadState\n",
    "from quadcopter.simulation import simulate\n",
    "from quadcopter.controllers import PIDController, PositionController\n",
    "from quadcopter.logging import simulate_with_logging\n",
    "from quadcopter.plotting import plot_trajectory, plot_frequency_analysis\n",
    "\n",
    "print(\"Libraries imported successfully\")"
   ]
  },
  {
   "cell_type": "markdown",
   "metadata": {},
   "source": [
    "## Run Simulation with Logging\n",
    "\n",
    "Let's run a simulation and generate some data to analyze:"
   ]
  },
  {
   "cell_type": "code",
   "execution_count": null,
   "metadata": {},
   "outputs": [],
   "source": [
    "# Create a position controller\n",
    "position_controller = PositionController(\n",
    "    x_pid=PIDController(kp=2.0, ki=0.1, kd=0.5),\n",
    "    y_pid=PIDController(kp=2.0, ki=0.1, kd=0.5),\n",
    "    z_pid=PIDController(kp=4.0, ki=0.2, kd=1.0),\n",
    "    target_pos=np.array([1.0, -1.0, 2.0])\n",
    ")\n",
    "\n",
    "# Set up initial state\n",
    "initial_state = QuadState(\n",
    "    pos=np.array([0.0, 0.0, 0.0]),\n",
    "    vel=np.array([0.0, 0.0, 0.0]),\n",
    "    quat=np.array([1.0, 0.0, 0.0, 0.0]),\n",
    "    ang_vel=np.array([0.0, 0.0, 0.0])\n",
    ")\n",
    "\n",
    "# Run simulation with logging\n",
    "log = simulate_with_logging(\n",
    "    duration=10.0,\n",
    "    dt=0.02,\n",
    "    controller=position_controller,\n",
    "    initial_state=initial_state,\n",
    "    method=\"rk4\"\n",
    ")\n",
    "\n",
    "print(f\"Simulation completed with {len(log.times)} data points\")"
   ]
  },
  {
   "cell_type": "markdown",
   "metadata": {},
   "source": [
    "## Export Data\n",
    "\n",
    "Let's export the data in different formats:"
   ]
  },
  {
   "cell_type": "code",
   "execution_count": null,
   "metadata": {},
   "outputs": [],
   "source": [
    "# Create a directory for our data\n",
    "data_dir = Path(\"analysis_data\")\n",
    "data_dir.mkdir(exist_ok=True)\n",
    "\n",
    "# Export to CSV\n",
    "csv_file = data_dir / \"simulation_data.csv\"\n",
    "log.save_csv(csv_file)\n",
    "print(f\"Data exported to {csv_file}\")\n",
    "\n",
    "# Export to JSON\n",
    "json_file = data_dir / \"simulation_data.json\"\n",
    "log.save_json(json_file)\n",
    "print(f\"Data exported to {json_file}\")\n",
    "\n",
    "# Export to MATLAB (if scipy is available)\n",
    "try:\n",
    "    mat_file = data_dir / \"simulation_data.mat\"\n",
    "    log.save_matlab(mat_file)\n",
    "    print(f\"Data exported to {mat_file}\")\n",
    "except:\n",
    "    print(\"Skipping MATLAB export (scipy not available)\")"
   ]
  },
  {
   "cell_type": "markdown",
   "metadata": {},
   "source": [
    "## Load and Analyze Data\n",
    "\n",
    "Let's load the CSV data and perform some analysis:"
   ]
  },
  {
   "cell_type": "code",
   "execution_count": null,
   "metadata": {},
   "outputs": [],
   "source": [
    "# Load CSV data\n",
    "df = pd.read_csv(csv_file)\n",
    "print(\"Data loaded successfully\")\n",
    "print(f\"Shape: {df.shape}\")\n",
    "print(\"\\nFirst few rows:\")\n",
    "print(df.head())\n",
    "\n",
    "print(\"\\nColumn names:\")\n",
    "print(df.columns.tolist())"
   ]
  },
  {
   "cell_type": "markdown",
   "metadata": {},
   "source": [
    "## Statistical Analysis\n",
    "\n",
    "Let's perform some statistical analysis on the data:"
   ]
  },
  {
   "cell_type": "code",
   "execution_count": null,
   "metadata": {},
   "outputs": [],
   "source": [
    "# Basic statistics\n",
    "print(\"Basic Statistics:\")\n",
    "print(df.describe())\n",
    "\n",
    "# Position statistics\n",
    "print(\"\\nPosition Statistics:\")\n",
    "pos_cols = ['pos_x', 'pos_y', 'pos_z']\n",
    "print(df[pos_cols].describe())\n",
    "\n",
    "# Velocity statistics\n",
    "print(\"\\nVelocity Statistics:\")\n",
    "vel_cols = ['vel_x', 'vel_y', 'vel_z']\n",
    "print(df[vel_cols].describe())\n",
    "\n",
    "# Control statistics\n",
    "print(\"\\nControl Statistics:\")\n",
    "control_cols = ['control_1', 'control_2', 'control_3', 'control_4']\n",
    "print(df[control_cols].describe())"
   ]
  },
  {
   "cell_type": "markdown",
   "metadata": {},
   "source": [
    "## Visualization\n",
    "\n",
    "Let's create some visualizations of the data:"
   ]
  },
  {
   "cell_type": "code",
   "execution_count": null,
   "metadata": {},
   "outputs": [],
   "source": [
    "# Extract data for plotting\n",
    "t = df['time'].values\n",
    "positions = df[['pos_x', 'pos_y', 'pos_z']].values\n",
    "velocities = df[['vel_x', 'vel_y', 'vel_z']].values\n",
    "controls = df[['control_1', 'control_2', 'control_3', 'control_4']].values\n",
    "\n",
    "# Create states array for plotting functions\n",
    "states = np.column_stack([\n",
    "    positions,\n",
    "    velocities,\n",
    "    np.tile([1.0, 0.0, 0.0, 0.0], (len(t), 1)),  # Quaternion (identity for simplicity)\n",
    "    np.zeros((len(t), 3))  # Angular velocity\n",
    "])\n",
    "\n",
    "# Plot trajectory\n",
    "plot_trajectory(t, states, controls)\n",
    "\n",
    "# Plot frequency analysis\n",
    "plot_frequency_analysis(t, positions, ['X Position', 'Y Position', 'Z Position'])"
   ]
  },
  {
   "cell_type": "markdown",
   "metadata": {},
   "source": [
    "## Error Analysis\n",
    "\n",
    "Let's analyze the control errors:"
   ]
  },
  {
   "cell_type": "code",
   "execution_count": null,
   "metadata": {},
   "outputs": [],
   "source": [
    "# Define target positions\n",
    "target_pos = np.array([1.0, -1.0, 2.0])\n",
    "\n",
    "# Calculate position errors\n",
    "position_errors = positions - target_pos\n",
    "\n",
    "# Plot position errors\n",
    "plt.figure(figsize=(12, 8))\n",
    "plt.subplot(3, 1, 1)\n",
    "plt.plot(t, position_errors[:, 0])\n",
    "plt.ylabel('X Error [m]')\n",
    "plt.title('Position Errors')\n",
    "plt.grid(True, alpha=0.3)\n",
    "\n",
    "plt.subplot(3, 1, 2)\n",
    "plt.plot(t, position_errors[:, 1])\n",
    "plt.ylabel('Y Error [m]')\n",
    "plt.grid(True, alpha=0.3)\n",
    "\n",
    "plt.subplot(3, 1, 3)\n",
    "plt.plot(t, position_errors[:, 2])\n",
    "plt.xlabel('Time [s]')\n",
    "plt.ylabel('Z Error [m]')\n",
    "plt.grid(True, alpha=0.3)\n",
    "\n",
    "plt.tight_layout()\n",
    "plt.show()\n",
    "\n",
    "# Calculate error metrics\n",
    "rmse = np.sqrt(np.mean(position_errors**2, axis=0))\n",
    "mean_abs_error = np.mean(np.abs(position_errors), axis=0)\n",
    "max_error = np.max(np.abs(position_errors), axis=0)\n",
    "\n",
    "print(\"Error Metrics:\")\n",
    "print(f\"RMSE - X: {rmse[0]:.4f} m, Y: {rmse[1]:.4f} m, Z: {rmse[2]:.4f} m\")\n",
    "print(f\"Mean Absolute Error - X: {mean_abs_error[0]:.4f} m, Y: {mean_abs_error[1]:.4f} m, Z: {mean_abs_error[2]:.4f} m\")\n",
    "print(f\"Max Error - X: {max_error[0]:.4f} m, Y: {max_error[1]:.4f} m, Z: {max_error[2]:.4f} m\")"
   ]
  },
  {
   "cell_type": "markdown",
   "metadata": {},
   "source": [
    "## Performance Analysis\n",
    "\n",
    "Let's analyze the control performance:"
   ]
  },
  {
   "cell_type": "code",
   "execution_count": null,
   "metadata": {},
   "outputs": [],
   "source": [
    "# Calculate control effort\n",
    "control_effort = np.sum(controls**2, axis=1)\n",
    "\n",
    "# Plot control effort\n",
    "plt.figure(figsize=(10, 6))\n",
    "plt.plot(t, control_effort)\n",
    "plt.xlabel('Time [s]')\n",
    "plt.ylabel('Control Effort')\n",
    "plt.title('Control Effort Over Time')\n",
    "plt.grid(True, alpha=0.3)\n",
    "plt.show()\n",
    "\n",
    "# Calculate total control effort\n",
    "total_control_effort = np.sum(control_effort)\n",
    "mean_control_effort = np.mean(control_effort)\n",
    "\n",
    "print(\"Control Effort Metrics:\")\n",
    "print(f\"Total Control Effort: {total_control_effort:.2f}\")\n",
    "print(f\"Mean Control Effort: {mean_control_effort:.2f}\")\n",
    "\n",
    "# Analyze convergence\n",
    "final_position = positions[-1]\n",
    "position_error_norm = np.linalg.norm(final_position - target_pos)\n",
    "\n",
    "print(f\"\\nConvergence Metrics:\")\n",
    "print(f\"Final Position: [{final_position[0]:.3f}, {final_position[1]:.3f}, {final_position[2]:.3f}]\")\n",
    "print(f\"Target Position: [{target_pos[0]:.3f}, {target_pos[1]:.3f}, {target_pos[2]:.3f}]\")\n",
    "print(f\"Final Position Error: {position_error_norm:.4f} m\")"
   ]
  },
  {
   "cell_type": "markdown",
   "metadata": {},
   "source": [
    "## Summary\n",
    "\n",
    "This notebook demonstrated:\n",
    "1. How to run simulations with logging\n",
    "2. How to export data in multiple formats\n",
    "3. How to load and analyze simulation data\n",
    "4. How to perform statistical analysis\n",
    "5. How to visualize simulation results\n",
    "6. How to analyze control errors and performance\n",
    "\n",
    "This type of analysis is useful for:\n",
    "- Tuning controller parameters\n",
    "- Comparing different control strategies\n",
    "- Generating reports for academic publications\n",
    "- Validating simulation results"
   ]
  }
 ],
 "metadata": {
  "kernelspec": {
   "display_name": "Python 3",
   "language": "python",
   "name": "python3"
  },
  "language_info": {
   "codemirror_mode": {
    "name": "ipython",
    "version": 3
   },
   "file_extension": ".py",
   "mimetype": "text/x-python",
   "name": "python",
   "nbconvert_exporter": "python",
   "pygments_lexer": "ipython3",
   "version": "3.8.5"
  }
 },
 "nbformat": 4,
 "nbformat_minor": 4
}